{
 "cells": [
  {
   "cell_type": "markdown",
   "id": "271dee40-7cb1-4fcb-8838-87f464559e83",
   "metadata": {},
   "source": [
    "# Task 6.4: Supervised Machine Learning: Regression"
   ]
  },
  {
   "cell_type": "markdown",
   "id": "8cf1f86a-c81b-4f5b-b18a-45496fbfc3a7",
   "metadata": {},
   "source": [
    "# Table of content:\n",
    "\n",
    "## 1 Import libraries and file\n",
    "## 2 Data cleaning\n",
    "## 3 Preparing data for the regression analysis\n",
    "## 4 Regression analysis"
   ]
  },
  {
   "cell_type": "markdown",
   "id": "0a705c6b-b7a6-47c7-85d1-e1da07af0bef",
   "metadata": {
    "jp-MarkdownHeadingCollapsed": true
   },
   "source": [
    "### 1 Import libraries and file"
   ]
  },
  {
   "cell_type": "code",
   "execution_count": 15,
   "id": "ac2fc19e-a0d5-4610-91ee-8116eb623fca",
   "metadata": {},
   "outputs": [],
   "source": [
    "# Import scikit-learn and other libraries\n",
    "import pandas as pd\n",
    "import numpy as np\n",
    "import seaborn as sns\n",
    "import matplotlib\n",
    "import matplotlib.pyplot as plt\n",
    "import os\n",
    "import sklearn\n",
    "from sklearn.model_selection import train_test_split \n",
    "from sklearn.linear_model import LinearRegression\n",
    "from sklearn.metrics import mean_squared_error, r2_score"
   ]
  },
  {
   "cell_type": "code",
   "execution_count": 17,
   "id": "e8cee926-7170-4756-a2b1-439c6dfeafab",
   "metadata": {},
   "outputs": [],
   "source": [
    "df = pd.read_csv(r\"C:\\Users\\azikb\\Downloads\\Bike Sales in Europe and USA\\Prepared Data\\Sales_clean.csv\")"
   ]
  },
  {
   "cell_type": "code",
   "execution_count": 37,
   "id": "c5094931-01d4-4fc7-8379-e48e047088d8",
   "metadata": {},
   "outputs": [],
   "source": [
    "# Enable the option to display the graphs.\n",
    "\n",
    "%matplotlib inline"
   ]
  },
  {
   "cell_type": "markdown",
   "id": "ab5c89c8-050b-44e1-ae8a-551483ede194",
   "metadata": {},
   "source": [
    "### 2 Data cleaning"
   ]
  },
  {
   "cell_type": "code",
   "execution_count": 21,
   "id": "ac59756d-5cca-4d69-8674-79d329a04d4f",
   "metadata": {},
   "outputs": [
    {
     "data": {
      "text/html": [
       "<div>\n",
       "<style scoped>\n",
       "    .dataframe tbody tr th:only-of-type {\n",
       "        vertical-align: middle;\n",
       "    }\n",
       "\n",
       "    .dataframe tbody tr th {\n",
       "        vertical-align: top;\n",
       "    }\n",
       "\n",
       "    .dataframe thead th {\n",
       "        text-align: right;\n",
       "    }\n",
       "</style>\n",
       "<table border=\"1\" class=\"dataframe\">\n",
       "  <thead>\n",
       "    <tr style=\"text-align: right;\">\n",
       "      <th></th>\n",
       "      <th>Day</th>\n",
       "      <th>Year</th>\n",
       "      <th>Customer_Age</th>\n",
       "      <th>Order_Quantity</th>\n",
       "      <th>Unit_Cost</th>\n",
       "      <th>Unit_Price</th>\n",
       "      <th>Profit</th>\n",
       "      <th>Cost</th>\n",
       "      <th>Revenue</th>\n",
       "    </tr>\n",
       "  </thead>\n",
       "  <tbody>\n",
       "    <tr>\n",
       "      <th>count</th>\n",
       "      <td>112036.000000</td>\n",
       "      <td>112036.000000</td>\n",
       "      <td>112036.000000</td>\n",
       "      <td>112036.000000</td>\n",
       "      <td>112036.000000</td>\n",
       "      <td>112036.000000</td>\n",
       "      <td>112036.000000</td>\n",
       "      <td>112036.000000</td>\n",
       "      <td>112036.000000</td>\n",
       "    </tr>\n",
       "    <tr>\n",
       "      <th>mean</th>\n",
       "      <td>15.665607</td>\n",
       "      <td>2014.400925</td>\n",
       "      <td>35.919508</td>\n",
       "      <td>11.904254</td>\n",
       "      <td>267.819603</td>\n",
       "      <td>453.850628</td>\n",
       "      <td>286.035194</td>\n",
       "      <td>471.103333</td>\n",
       "      <td>757.138527</td>\n",
       "    </tr>\n",
       "    <tr>\n",
       "      <th>std</th>\n",
       "      <td>8.781485</td>\n",
       "      <td>1.273327</td>\n",
       "      <td>11.016543</td>\n",
       "      <td>9.564877</td>\n",
       "      <td>550.218722</td>\n",
       "      <td>922.751848</td>\n",
       "      <td>454.852634</td>\n",
       "      <td>886.971635</td>\n",
       "      <td>1312.061623</td>\n",
       "    </tr>\n",
       "    <tr>\n",
       "      <th>min</th>\n",
       "      <td>1.000000</td>\n",
       "      <td>2011.000000</td>\n",
       "      <td>17.000000</td>\n",
       "      <td>1.000000</td>\n",
       "      <td>1.000000</td>\n",
       "      <td>2.000000</td>\n",
       "      <td>-30.000000</td>\n",
       "      <td>1.000000</td>\n",
       "      <td>2.000000</td>\n",
       "    </tr>\n",
       "    <tr>\n",
       "      <th>25%</th>\n",
       "      <td>8.000000</td>\n",
       "      <td>2013.000000</td>\n",
       "      <td>28.000000</td>\n",
       "      <td>2.000000</td>\n",
       "      <td>2.000000</td>\n",
       "      <td>5.000000</td>\n",
       "      <td>29.000000</td>\n",
       "      <td>28.000000</td>\n",
       "      <td>64.000000</td>\n",
       "    </tr>\n",
       "    <tr>\n",
       "      <th>50%</th>\n",
       "      <td>16.000000</td>\n",
       "      <td>2014.000000</td>\n",
       "      <td>35.000000</td>\n",
       "      <td>10.000000</td>\n",
       "      <td>9.000000</td>\n",
       "      <td>25.000000</td>\n",
       "      <td>103.000000</td>\n",
       "      <td>112.000000</td>\n",
       "      <td>226.000000</td>\n",
       "    </tr>\n",
       "    <tr>\n",
       "      <th>75%</th>\n",
       "      <td>23.000000</td>\n",
       "      <td>2016.000000</td>\n",
       "      <td>43.000000</td>\n",
       "      <td>20.000000</td>\n",
       "      <td>42.000000</td>\n",
       "      <td>70.000000</td>\n",
       "      <td>360.000000</td>\n",
       "      <td>442.000000</td>\n",
       "      <td>806.000000</td>\n",
       "    </tr>\n",
       "    <tr>\n",
       "      <th>max</th>\n",
       "      <td>31.000000</td>\n",
       "      <td>2016.000000</td>\n",
       "      <td>87.000000</td>\n",
       "      <td>32.000000</td>\n",
       "      <td>2171.000000</td>\n",
       "      <td>3578.000000</td>\n",
       "      <td>15096.000000</td>\n",
       "      <td>42978.000000</td>\n",
       "      <td>58074.000000</td>\n",
       "    </tr>\n",
       "  </tbody>\n",
       "</table>\n",
       "</div>"
      ],
      "text/plain": [
       "                 Day           Year   Customer_Age  Order_Quantity  \\\n",
       "count  112036.000000  112036.000000  112036.000000   112036.000000   \n",
       "mean       15.665607    2014.400925      35.919508       11.904254   \n",
       "std         8.781485       1.273327      11.016543        9.564877   \n",
       "min         1.000000    2011.000000      17.000000        1.000000   \n",
       "25%         8.000000    2013.000000      28.000000        2.000000   \n",
       "50%        16.000000    2014.000000      35.000000       10.000000   \n",
       "75%        23.000000    2016.000000      43.000000       20.000000   \n",
       "max        31.000000    2016.000000      87.000000       32.000000   \n",
       "\n",
       "           Unit_Cost     Unit_Price         Profit           Cost  \\\n",
       "count  112036.000000  112036.000000  112036.000000  112036.000000   \n",
       "mean      267.819603     453.850628     286.035194     471.103333   \n",
       "std       550.218722     922.751848     454.852634     886.971635   \n",
       "min         1.000000       2.000000     -30.000000       1.000000   \n",
       "25%         2.000000       5.000000      29.000000      28.000000   \n",
       "50%         9.000000      25.000000     103.000000     112.000000   \n",
       "75%        42.000000      70.000000     360.000000     442.000000   \n",
       "max      2171.000000    3578.000000   15096.000000   42978.000000   \n",
       "\n",
       "             Revenue  \n",
       "count  112036.000000  \n",
       "mean      757.138527  \n",
       "std      1312.061623  \n",
       "min         2.000000  \n",
       "25%        64.000000  \n",
       "50%       226.000000  \n",
       "75%       806.000000  \n",
       "max     58074.000000  "
      ]
     },
     "execution_count": 21,
     "metadata": {},
     "output_type": "execute_result"
    }
   ],
   "source": [
    "df.describe()"
   ]
  },
  {
   "cell_type": "code",
   "execution_count": 39,
   "id": "b277b6a9-091f-4e21-a3a7-0d7a869ad510",
   "metadata": {},
   "outputs": [
    {
     "data": {
      "text/plain": [
       "(112036, 18)"
      ]
     },
     "execution_count": 39,
     "metadata": {},
     "output_type": "execute_result"
    }
   ],
   "source": [
    "df.shape"
   ]
  },
  {
   "cell_type": "code",
   "execution_count": 41,
   "id": "b5e2a67b-53b8-4f40-be51-355eb96d7d92",
   "metadata": {
    "scrolled": true
   },
   "outputs": [
    {
     "data": {
      "text/plain": [
       "Index(['Date', 'Day', 'Month', 'Year', 'Customer_Age', 'Age_Group',\n",
       "       'Customer_Gender', 'Country', 'State', 'Product_Category',\n",
       "       'Sub_Category', 'Product', 'Order_Quantity', 'Unit_Cost', 'Unit_Price',\n",
       "       'Profit', 'Cost', 'Revenue'],\n",
       "      dtype='object')"
      ]
     },
     "execution_count": 41,
     "metadata": {},
     "output_type": "execute_result"
    }
   ],
   "source": [
    "df.columns"
   ]
  },
  {
   "cell_type": "code",
   "execution_count": 43,
   "id": "d15f13ae-87a8-4ddc-94c3-6f3edc3fb185",
   "metadata": {},
   "outputs": [
    {
     "data": {
      "text/html": [
       "<div>\n",
       "<style scoped>\n",
       "    .dataframe tbody tr th:only-of-type {\n",
       "        vertical-align: middle;\n",
       "    }\n",
       "\n",
       "    .dataframe tbody tr th {\n",
       "        vertical-align: top;\n",
       "    }\n",
       "\n",
       "    .dataframe thead th {\n",
       "        text-align: right;\n",
       "    }\n",
       "</style>\n",
       "<table border=\"1\" class=\"dataframe\">\n",
       "  <thead>\n",
       "    <tr style=\"text-align: right;\">\n",
       "      <th></th>\n",
       "      <th>Date</th>\n",
       "      <th>Day</th>\n",
       "      <th>Month</th>\n",
       "      <th>Year</th>\n",
       "      <th>Customer_Age</th>\n",
       "      <th>Age_Group</th>\n",
       "      <th>Customer_Gender</th>\n",
       "      <th>Country</th>\n",
       "      <th>State</th>\n",
       "      <th>Product_Category</th>\n",
       "      <th>Sub_Category</th>\n",
       "      <th>Product</th>\n",
       "      <th>Order_Quantity</th>\n",
       "      <th>Unit_Cost</th>\n",
       "      <th>Unit_Price</th>\n",
       "      <th>Profit</th>\n",
       "      <th>Cost</th>\n",
       "      <th>Revenue</th>\n",
       "    </tr>\n",
       "  </thead>\n",
       "  <tbody>\n",
       "    <tr>\n",
       "      <th>0</th>\n",
       "      <td>26/11/2013</td>\n",
       "      <td>26</td>\n",
       "      <td>November</td>\n",
       "      <td>2013</td>\n",
       "      <td>19</td>\n",
       "      <td>Youth (&lt;25)</td>\n",
       "      <td>M</td>\n",
       "      <td>Canada</td>\n",
       "      <td>British Columbia</td>\n",
       "      <td>Accessories</td>\n",
       "      <td>Bike Racks</td>\n",
       "      <td>Hitch Rack - 4-Bike</td>\n",
       "      <td>8</td>\n",
       "      <td>45</td>\n",
       "      <td>120</td>\n",
       "      <td>590</td>\n",
       "      <td>360</td>\n",
       "      <td>950</td>\n",
       "    </tr>\n",
       "    <tr>\n",
       "      <th>1</th>\n",
       "      <td>26/11/2015</td>\n",
       "      <td>26</td>\n",
       "      <td>November</td>\n",
       "      <td>2015</td>\n",
       "      <td>19</td>\n",
       "      <td>Youth (&lt;25)</td>\n",
       "      <td>M</td>\n",
       "      <td>Canada</td>\n",
       "      <td>British Columbia</td>\n",
       "      <td>Accessories</td>\n",
       "      <td>Bike Racks</td>\n",
       "      <td>Hitch Rack - 4-Bike</td>\n",
       "      <td>8</td>\n",
       "      <td>45</td>\n",
       "      <td>120</td>\n",
       "      <td>590</td>\n",
       "      <td>360</td>\n",
       "      <td>950</td>\n",
       "    </tr>\n",
       "    <tr>\n",
       "      <th>2</th>\n",
       "      <td>23/03/2014</td>\n",
       "      <td>23</td>\n",
       "      <td>March</td>\n",
       "      <td>2014</td>\n",
       "      <td>49</td>\n",
       "      <td>Adults (35-64)</td>\n",
       "      <td>M</td>\n",
       "      <td>Australia</td>\n",
       "      <td>New South Wales</td>\n",
       "      <td>Accessories</td>\n",
       "      <td>Bike Racks</td>\n",
       "      <td>Hitch Rack - 4-Bike</td>\n",
       "      <td>23</td>\n",
       "      <td>45</td>\n",
       "      <td>120</td>\n",
       "      <td>1366</td>\n",
       "      <td>1035</td>\n",
       "      <td>2401</td>\n",
       "    </tr>\n",
       "    <tr>\n",
       "      <th>3</th>\n",
       "      <td>23/03/2016</td>\n",
       "      <td>23</td>\n",
       "      <td>March</td>\n",
       "      <td>2016</td>\n",
       "      <td>49</td>\n",
       "      <td>Adults (35-64)</td>\n",
       "      <td>M</td>\n",
       "      <td>Australia</td>\n",
       "      <td>New South Wales</td>\n",
       "      <td>Accessories</td>\n",
       "      <td>Bike Racks</td>\n",
       "      <td>Hitch Rack - 4-Bike</td>\n",
       "      <td>20</td>\n",
       "      <td>45</td>\n",
       "      <td>120</td>\n",
       "      <td>1188</td>\n",
       "      <td>900</td>\n",
       "      <td>2088</td>\n",
       "    </tr>\n",
       "    <tr>\n",
       "      <th>4</th>\n",
       "      <td>15/05/2014</td>\n",
       "      <td>15</td>\n",
       "      <td>May</td>\n",
       "      <td>2014</td>\n",
       "      <td>47</td>\n",
       "      <td>Adults (35-64)</td>\n",
       "      <td>F</td>\n",
       "      <td>Australia</td>\n",
       "      <td>New South Wales</td>\n",
       "      <td>Accessories</td>\n",
       "      <td>Bike Racks</td>\n",
       "      <td>Hitch Rack - 4-Bike</td>\n",
       "      <td>4</td>\n",
       "      <td>45</td>\n",
       "      <td>120</td>\n",
       "      <td>238</td>\n",
       "      <td>180</td>\n",
       "      <td>418</td>\n",
       "    </tr>\n",
       "  </tbody>\n",
       "</table>\n",
       "</div>"
      ],
      "text/plain": [
       "         Date  Day     Month  Year  Customer_Age       Age_Group  \\\n",
       "0  26/11/2013   26  November  2013            19     Youth (<25)   \n",
       "1  26/11/2015   26  November  2015            19     Youth (<25)   \n",
       "2  23/03/2014   23     March  2014            49  Adults (35-64)   \n",
       "3  23/03/2016   23     March  2016            49  Adults (35-64)   \n",
       "4  15/05/2014   15       May  2014            47  Adults (35-64)   \n",
       "\n",
       "  Customer_Gender    Country             State Product_Category Sub_Category  \\\n",
       "0               M     Canada  British Columbia      Accessories   Bike Racks   \n",
       "1               M     Canada  British Columbia      Accessories   Bike Racks   \n",
       "2               M  Australia   New South Wales      Accessories   Bike Racks   \n",
       "3               M  Australia   New South Wales      Accessories   Bike Racks   \n",
       "4               F  Australia   New South Wales      Accessories   Bike Racks   \n",
       "\n",
       "               Product  Order_Quantity  Unit_Cost  Unit_Price  Profit  Cost  \\\n",
       "0  Hitch Rack - 4-Bike               8         45         120     590   360   \n",
       "1  Hitch Rack - 4-Bike               8         45         120     590   360   \n",
       "2  Hitch Rack - 4-Bike              23         45         120    1366  1035   \n",
       "3  Hitch Rack - 4-Bike              20         45         120    1188   900   \n",
       "4  Hitch Rack - 4-Bike               4         45         120     238   180   \n",
       "\n",
       "   Revenue  \n",
       "0      950  \n",
       "1      950  \n",
       "2     2401  \n",
       "3     2088  \n",
       "4      418  "
      ]
     },
     "execution_count": 43,
     "metadata": {},
     "output_type": "execute_result"
    }
   ],
   "source": [
    "df.head(5)"
   ]
  },
  {
   "cell_type": "code",
   "execution_count": 25,
   "id": "de1cdfb4-6649-45f6-ab78-3708ee707009",
   "metadata": {},
   "outputs": [
    {
     "data": {
      "text/plain": [
       "Date                0\n",
       "Day                 0\n",
       "Month               0\n",
       "Year                0\n",
       "Customer_Age        0\n",
       "Age_Group           0\n",
       "Customer_Gender     0\n",
       "Country             0\n",
       "State               0\n",
       "Product_Category    0\n",
       "Sub_Category        0\n",
       "Product             0\n",
       "Order_Quantity      0\n",
       "Unit_Cost           0\n",
       "Unit_Price          0\n",
       "Profit              0\n",
       "Cost                0\n",
       "Revenue             0\n",
       "dtype: int64"
      ]
     },
     "execution_count": 25,
     "metadata": {},
     "output_type": "execute_result"
    }
   ],
   "source": [
    "df.isnull().sum()\n",
    "# There is no empty data"
   ]
  },
  {
   "cell_type": "code",
   "execution_count": 31,
   "id": "ffa2fb01-b3ee-47dc-8f4a-907e17105d2c",
   "metadata": {},
   "outputs": [],
   "source": [
    "dups = df.duplicated()"
   ]
  },
  {
   "cell_type": "code",
   "execution_count": 33,
   "id": "b20d9ff4-9cc5-40dd-88be-8ae671033c6d",
   "metadata": {},
   "outputs": [
    {
     "data": {
      "text/plain": [
       "0         False\n",
       "1         False\n",
       "2         False\n",
       "3         False\n",
       "4         False\n",
       "          ...  \n",
       "112031    False\n",
       "112032    False\n",
       "112033    False\n",
       "112034    False\n",
       "112035    False\n",
       "Length: 112036, dtype: bool"
      ]
     },
     "execution_count": 33,
     "metadata": {},
     "output_type": "execute_result"
    }
   ],
   "source": [
    "dups"
   ]
  },
  {
   "cell_type": "markdown",
   "id": "cc215589-97b7-4029-9156-ce28f2f32020",
   "metadata": {},
   "source": [
    "#### Checking for the extreme values"
   ]
  },
  {
   "cell_type": "code",
   "execution_count": 52,
   "id": "3078e781-4af8-453f-a5ba-b2e969151b98",
   "metadata": {},
   "outputs": [
    {
     "name": "stderr",
     "output_type": "stream",
     "text": [
      "C:\\Users\\azikb\\AppData\\Local\\Temp\\ipykernel_13432\\2322271965.py:1: UserWarning: \n",
      "\n",
      "`distplot` is a deprecated function and will be removed in seaborn v0.14.0.\n",
      "\n",
      "Please adapt your code to use either `displot` (a figure-level function with\n",
      "similar flexibility) or `histplot` (an axes-level function for histograms).\n",
      "\n",
      "For a guide to updating your code to use the new functions, please see\n",
      "https://gist.github.com/mwaskom/de44147ed2974457ad6372750bbe5751\n",
      "\n",
      "  sns.distplot(df['Revenue'], bins=25) # Shows extreme values\n",
      "C:\\Users\\azikb\\anaconda3\\Lib\\site-packages\\seaborn\\_oldcore.py:1119: FutureWarning: use_inf_as_na option is deprecated and will be removed in a future version. Convert inf values to NaN before operating instead.\n",
      "  with pd.option_context('mode.use_inf_as_na', True):\n"
     ]
    },
    {
     "data": {
      "text/plain": [
       "<Axes: xlabel='Revenue', ylabel='Density'>"
      ]
     },
     "execution_count": 52,
     "metadata": {},
     "output_type": "execute_result"
    },
    {
     "data": {
      "image/png": "[encoded data removed]",
      "text/plain": [
       "<Figure size 640x480 with 1 Axes>"
      ]
     },
     "metadata": {},
     "output_type": "display_data"
    }
   ],
   "source": [
    "sns.distplot(df['Revenue'], bins=25) # Shows extreme values"
   ]
  },
  {
   "cell_type": "code",
   "execution_count": 64,
   "id": "875e100f-dde9-4d6c-ba8c-519d2bff997b",
   "metadata": {},
   "outputs": [
    {
     "data": {
      "text/plain": [
       "757.1385269020672"
      ]
     },
     "execution_count": 64,
     "metadata": {},
     "output_type": "execute_result"
    }
   ],
   "source": [
    "df['Revenue'].mean()"
   ]
  },
  {
   "cell_type": "code",
   "execution_count": 68,
   "id": "9fa622dd-b97e-4630-bdea-caa773c21112",
   "metadata": {},
   "outputs": [
    {
     "data": {
      "text/plain": [
       "58074"
      ]
     },
     "execution_count": 68,
     "metadata": {},
     "output_type": "execute_result"
    }
   ],
   "source": [
    "df['Revenue'].max()"
   ]
  },
  {
   "cell_type": "code",
   "execution_count": 70,
   "id": "6fb72013-81e9-4ad4-8912-7b78cbda528e",
   "metadata": {},
   "outputs": [
    {
     "data": {
      "text/plain": [
       "2"
      ]
     },
     "execution_count": 70,
     "metadata": {},
     "output_type": "execute_result"
    }
   ],
   "source": [
    "df['Revenue'].min()"
   ]
  },
  {
   "cell_type": "markdown",
   "id": "ff5df2c6-f602-4a01-af33-9696b47a77c0",
   "metadata": {},
   "source": [
    "#### From my wiew the best way to show outliers are use the boxplot. Here we see all extreme values clearly"
   ]
  },
  {
   "cell_type": "code",
   "execution_count": 76,
   "id": "7e1f484f-9156-42bc-b279-692b06bb42d6",
   "metadata": {},
   "outputs": [
    {
     "data": {
      "text/plain": [
       "<Axes: ylabel='Revenue'>"
      ]
     },
     "execution_count": 76,
     "metadata": {},
     "output_type": "execute_result"
    },
    {
     "data": {
      "image/png": "[encoded data removed]",
      "text/plain": [
       "<Figure size 1000x600 with 1 Axes>"
      ]
     },
     "metadata": {},
     "output_type": "display_data"
    }
   ],
   "source": [
    "plt.figure(figsize=(10, 6))\n",
    "sns.boxplot(y='Revenue', data=df)"
   ]
  },
  {
   "cell_type": "code",
   "execution_count": 82,
   "id": "2dc9498c-f61e-4dc8-b6db-f8dfd7399879",
   "metadata": {},
   "outputs": [
    {
     "data": {
      "text/html": [
       "<div>\n",
       "<style scoped>\n",
       "    .dataframe tbody tr th:only-of-type {\n",
       "        vertical-align: middle;\n",
       "    }\n",
       "\n",
       "    .dataframe tbody tr th {\n",
       "        vertical-align: top;\n",
       "    }\n",
       "\n",
       "    .dataframe thead th {\n",
       "        text-align: right;\n",
       "    }\n",
       "</style>\n",
       "<table border=\"1\" class=\"dataframe\">\n",
       "  <thead>\n",
       "    <tr style=\"text-align: right;\">\n",
       "      <th></th>\n",
       "      <th>Date</th>\n",
       "      <th>Day</th>\n",
       "      <th>Month</th>\n",
       "      <th>Year</th>\n",
       "      <th>Customer_Age</th>\n",
       "      <th>Age_Group</th>\n",
       "      <th>Customer_Gender</th>\n",
       "      <th>Country</th>\n",
       "      <th>State</th>\n",
       "      <th>Product_Category</th>\n",
       "      <th>Sub_Category</th>\n",
       "      <th>Product</th>\n",
       "      <th>Order_Quantity</th>\n",
       "      <th>Unit_Cost</th>\n",
       "      <th>Unit_Price</th>\n",
       "      <th>Profit</th>\n",
       "      <th>Cost</th>\n",
       "      <th>Revenue</th>\n",
       "    </tr>\n",
       "  </thead>\n",
       "  <tbody>\n",
       "    <tr>\n",
       "      <th>111072</th>\n",
       "      <td>24/07/2013</td>\n",
       "      <td>24</td>\n",
       "      <td>July</td>\n",
       "      <td>2013</td>\n",
       "      <td>52</td>\n",
       "      <td>Adults (35-64)</td>\n",
       "      <td>M</td>\n",
       "      <td>Australia</td>\n",
       "      <td>Queensland</td>\n",
       "      <td>Clothing</td>\n",
       "      <td>Vests</td>\n",
       "      <td>Touring-1000 Yellow, 50</td>\n",
       "      <td>27</td>\n",
       "      <td>1482</td>\n",
       "      <td>2384</td>\n",
       "      <td>14055</td>\n",
       "      <td>40014</td>\n",
       "      <td>54069</td>\n",
       "    </tr>\n",
       "    <tr>\n",
       "      <th>111073</th>\n",
       "      <td>24/07/2015</td>\n",
       "      <td>24</td>\n",
       "      <td>July</td>\n",
       "      <td>2015</td>\n",
       "      <td>52</td>\n",
       "      <td>Adults (35-64)</td>\n",
       "      <td>M</td>\n",
       "      <td>Australia</td>\n",
       "      <td>Queensland</td>\n",
       "      <td>Clothing</td>\n",
       "      <td>Vests</td>\n",
       "      <td>Touring-1000 Yellow, 50</td>\n",
       "      <td>29</td>\n",
       "      <td>1482</td>\n",
       "      <td>2384</td>\n",
       "      <td>15096</td>\n",
       "      <td>42978</td>\n",
       "      <td>58074</td>\n",
       "    </tr>\n",
       "  </tbody>\n",
       "</table>\n",
       "</div>"
      ],
      "text/plain": [
       "              Date  Day Month  Year  Customer_Age       Age_Group  \\\n",
       "111072  24/07/2013   24  July  2013            52  Adults (35-64)   \n",
       "111073  24/07/2015   24  July  2015            52  Adults (35-64)   \n",
       "\n",
       "       Customer_Gender    Country       State Product_Category Sub_Category  \\\n",
       "111072               M  Australia  Queensland         Clothing        Vests   \n",
       "111073               M  Australia  Queensland         Clothing        Vests   \n",
       "\n",
       "                        Product  Order_Quantity  Unit_Cost  Unit_Price  \\\n",
       "111072  Touring-1000 Yellow, 50              27       1482        2384   \n",
       "111073  Touring-1000 Yellow, 50              29       1482        2384   \n",
       "\n",
       "        Profit   Cost  Revenue  \n",
       "111072   14055  40014    54069  \n",
       "111073   15096  42978    58074  "
      ]
     },
     "execution_count": 82,
     "metadata": {},
     "output_type": "execute_result"
    }
   ],
   "source": [
    "df[df['Revenue']>30000]"
   ]
  },
  {
   "cell_type": "markdown",
   "id": "b572c071-b114-432d-8b7a-f6a86130d7e0",
   "metadata": {},
   "source": [
    "## I decided to delete two outliers. The data set will be analysed without them"
   ]
  },
  {
   "cell_type": "code",
   "execution_count": 124,
   "id": "c4ce0b83-b328-4577-b254-ea85ce95b5c3",
   "metadata": {},
   "outputs": [],
   "source": [
    "# Let's delete extreme values. I decided to clean extreme values in 'Cost' columns\n",
    "df2 = df[df['Revenue'] <= 30000]"
   ]
  },
  {
   "cell_type": "code",
   "execution_count": 126,
   "id": "90b639e5-321c-4ffc-8f47-6d8e84344912",
   "metadata": {},
   "outputs": [
    {
     "data": {
      "text/plain": [
       "(112034, 18)"
      ]
     },
     "execution_count": 126,
     "metadata": {},
     "output_type": "execute_result"
    }
   ],
   "source": [
    "df2.shape"
   ]
  },
  {
   "cell_type": "markdown",
   "id": "d5cbc9d2-8f4d-48d2-bad4-64892e30df06",
   "metadata": {
    "jp-MarkdownHeadingCollapsed": true
   },
   "source": [
    "### 3 Preparing data for regression analysis"
   ]
  },
  {
   "cell_type": "code",
   "execution_count": 161,
   "id": "e015e878-0ea4-411c-af8b-f9ad0e6b5e9e",
   "metadata": {},
   "outputs": [
    {
     "data": {
      "image/png": "[encoded data removed]",
      "text/plain": [
       "<Figure size 640x480 with 1 Axes>"
      ]
     },
     "metadata": {},
     "output_type": "display_data"
    }
   ],
   "source": [
    "# Create a scatterplot using matplotlib for another look at how the chosen variables plot against each other.\n",
    "\n",
    "df2.plot(x = 'Revenue', y='Cost', style ='o') # The style option creates a scatterplot; without it, we only have lines.\n",
    "plt.title('Revenue vs Cost')  \n",
    "plt.xlabel('Revenue')  \n",
    "plt.ylabel('Cost')  \n",
    "plt.show()"
   ]
  },
  {
   "cell_type": "code",
   "execution_count": 163,
   "id": "01b297fe-dbb0-45be-b35b-611a3cb2ea42",
   "metadata": {},
   "outputs": [],
   "source": [
    "# Reshape the variables into NumPy arrays and put them into separate objects.\n",
    "\n",
    "X = df2['Revenue'].values.reshape(-1,1)\n",
    "y = df2['Cost'].values.reshape(-1,1)"
   ]
  },
  {
   "cell_type": "code",
   "execution_count": 165,
   "id": "649d60d0-be54-48fc-98a8-b10cb24f0a3c",
   "metadata": {},
   "outputs": [
    {
     "data": {
      "text/plain": [
       "array([[ 950],\n",
       "       [ 950],\n",
       "       [2401],\n",
       "       ...,\n",
       "       [1183],\n",
       "       [1260],\n",
       "       [1207]], dtype=int64)"
      ]
     },
     "execution_count": 165,
     "metadata": {},
     "output_type": "execute_result"
    }
   ],
   "source": [
    "X"
   ]
  },
  {
   "cell_type": "code",
   "execution_count": 167,
   "id": "bc278f5f-b4e9-4ee1-8e2d-d72e7536f2cc",
   "metadata": {},
   "outputs": [
    {
     "data": {
      "text/plain": [
       "array([[ 360],\n",
       "       [ 360],\n",
       "       [1035],\n",
       "       ...,\n",
       "       [ 528],\n",
       "       [ 576],\n",
       "       [ 552]], dtype=int64)"
      ]
     },
     "execution_count": 167,
     "metadata": {},
     "output_type": "execute_result"
    }
   ],
   "source": [
    "y"
   ]
  },
  {
   "cell_type": "code",
   "execution_count": 169,
   "id": "c9ccdd98-de77-4d3c-9ddf-8328a4f7ccba",
   "metadata": {},
   "outputs": [],
   "source": [
    "# Split data into a training set and a test set.\n",
    "\n",
    "X_train, X_test, y_train, y_test = train_test_split(X, y, test_size=0.3, random_state=0)"
   ]
  },
  {
   "cell_type": "markdown",
   "id": "30fb0a94-bf2f-420c-ae75-372033434578",
   "metadata": {},
   "source": [
    "### 4 Regression analysis"
   ]
  },
  {
   "cell_type": "code",
   "execution_count": 178,
   "id": "12a028ce-4df8-419b-bce1-d7adacbbac63",
   "metadata": {},
   "outputs": [],
   "source": [
    "# Create a regression object.\n",
    "\n",
    "regression = LinearRegression()  # This is the regression object, which will be fit onto the training set."
   ]
  },
  {
   "cell_type": "code",
   "execution_count": 180,
   "id": "9a561350-5bac-4cef-8ead-e046c6c568a5",
   "metadata": {},
   "outputs": [
    {
     "data": {
      "text/html": [
       "<style>#sk-container-id-1 {color: black;background-color: white;}#sk-container-id-1 pre{padding: 0;}#sk-container-id-1 div.sk-toggleable {background-color: white;}#sk-container-id-1 label.sk-toggleable__label {cursor: pointer;display: block;width: 100%;margin-bottom: 0;padding: 0.3em;box-sizing: border-box;text-align: center;}#sk-container-id-1 label.sk-toggleable__label-arrow:before {content: \"▸\";float: left;margin-right: 0.25em;color: #696969;}#sk-container-id-1 label.sk-toggleable__label-arrow:hover:before {color: black;}#sk-container-id-1 div.sk-estimator:hover label.sk-toggleable__label-arrow:before {color: black;}#sk-container-id-1 div.sk-toggleable__content {max-height: 0;max-width: 0;overflow: hidden;text-align: left;background-color: #f0f8ff;}#sk-container-id-1 div.sk-toggleable__content pre {margin: 0.2em;color: black;border-radius: 0.25em;background-color: #f0f8ff;}#sk-container-id-1 input.sk-toggleable__control:checked~div.sk-toggleable__content {max-height: 200px;max-width: 100%;overflow: auto;}#sk-container-id-1 input.sk-toggleable__control:checked~label.sk-toggleable__label-arrow:before {content: \"▾\";}#sk-container-id-1 div.sk-estimator input.sk-toggleable__control:checked~label.sk-toggleable__label {background-color: #d4ebff;}#sk-container-id-1 div.sk-label input.sk-toggleable__control:checked~label.sk-toggleable__label {background-color: #d4ebff;}#sk-container-id-1 input.sk-hidden--visually {border: 0;clip: rect(1px 1px 1px 1px);clip: rect(1px, 1px, 1px, 1px);height: 1px;margin: -1px;overflow: hidden;padding: 0;position: absolute;width: 1px;}#sk-container-id-1 div.sk-estimator {font-family: monospace;background-color: #f0f8ff;border: 1px dotted black;border-radius: 0.25em;box-sizing: border-box;margin-bottom: 0.5em;}#sk-container-id-1 div.sk-estimator:hover {background-color: #d4ebff;}#sk-container-id-1 div.sk-parallel-item::after {content: \"\";width: 100%;border-bottom: 1px solid gray;flex-grow: 1;}#sk-container-id-1 div.sk-label:hover label.sk-toggleable__label {background-color: #d4ebff;}#sk-container-id-1 div.sk-serial::before {content: \"\";position: absolute;border-left: 1px solid gray;box-sizing: border-box;top: 0;bottom: 0;left: 50%;z-index: 0;}#sk-container-id-1 div.sk-serial {display: flex;flex-direction: column;align-items: center;background-color: white;padding-right: 0.2em;padding-left: 0.2em;position: relative;}#sk-container-id-1 div.sk-item {position: relative;z-index: 1;}#sk-container-id-1 div.sk-parallel {display: flex;align-items: stretch;justify-content: center;background-color: white;position: relative;}#sk-container-id-1 div.sk-item::before, #sk-container-id-1 div.sk-parallel-item::before {content: \"\";position: absolute;border-left: 1px solid gray;box-sizing: border-box;top: 0;bottom: 0;left: 50%;z-index: -1;}#sk-container-id-1 div.sk-parallel-item {display: flex;flex-direction: column;z-index: 1;position: relative;background-color: white;}#sk-container-id-1 div.sk-parallel-item:first-child::after {align-self: flex-end;width: 50%;}#sk-container-id-1 div.sk-parallel-item:last-child::after {align-self: flex-start;width: 50%;}#sk-container-id-1 div.sk-parallel-item:only-child::after {width: 0;}#sk-container-id-1 div.sk-dashed-wrapped {border: 1px dashed gray;margin: 0 0.4em 0.5em 0.4em;box-sizing: border-box;padding-bottom: 0.4em;background-color: white;}#sk-container-id-1 div.sk-label label {font-family: monospace;font-weight: bold;display: inline-block;line-height: 1.2em;}#sk-container-id-1 div.sk-label-container {text-align: center;}#sk-container-id-1 div.sk-container {/* jupyter's `normalize.less` sets `[hidden] { display: none; }` but bootstrap.min.css set `[hidden] { display: none !important; }` so we also need the `!important` here to be able to override the default hidden behavior on the sphinx rendered scikit-learn.org. See: https://github.com/scikit-learn/scikit-learn/issues/21755 */display: inline-block !important;position: relative;}#sk-container-id-1 div.sk-text-repr-fallback {display: none;}</style><div id=\"sk-container-id-1\" class=\"sk-top-container\"><div class=\"sk-text-repr-fallback\"><pre>LinearRegression()</pre><b>In a Jupyter environment, please rerun this cell to show the HTML representation or trust the notebook. <br />On GitHub, the HTML representation is unable to render, please try loading this page with nbviewer.org.</b></div><div class=\"sk-container\" hidden><div class=\"sk-item\"><div class=\"sk-estimator sk-toggleable\"><input class=\"sk-toggleable__control sk-hidden--visually\" id=\"sk-estimator-id-1\" type=\"checkbox\" checked><label for=\"sk-estimator-id-1\" class=\"sk-toggleable__label sk-toggleable__label-arrow\">LinearRegression</label><div class=\"sk-toggleable__content\"><pre>LinearRegression()</pre></div></div></div></div></div>"
      ],
      "text/plain": [
       "LinearRegression()"
      ]
     },
     "execution_count": 180,
     "metadata": {},
     "output_type": "execute_result"
    }
   ],
   "source": [
    "# Fit the regression object onto the training set.\n",
    "\n",
    "regression.fit(X_train, y_train)"
   ]
  },
  {
   "cell_type": "code",
   "execution_count": 182,
   "id": "b9c16bbc-12ed-4a78-a4e5-15042afdf4e7",
   "metadata": {},
   "outputs": [],
   "source": [
    "# Predict the values of y using X.\n",
    "\n",
    "y_predicted = regression.predict(X_test)"
   ]
  },
  {
   "cell_type": "code",
   "execution_count": 184,
   "id": "831c4b5b-95c9-4aa8-bc0b-b35e34529e9d",
   "metadata": {},
   "outputs": [
    {
     "data": {
      "image/png": "[encoded data removed]",
      "text/plain": [
       "<Figure size 640x480 with 1 Axes>"
      ]
     },
     "metadata": {},
     "output_type": "display_data"
    }
   ],
   "source": [
    "# Create a plot that shows the regression line from the model on the test set.\n",
    "\n",
    "plot_test = plt\n",
    "plot_test.scatter(X_test, y_test, color='gray', s = 15)\n",
    "plot_test.plot(X_test, y_predicted, color='red', linewidth =3)\n",
    "plot_test.title('Revenue vs Cost (Test set)')\n",
    "plot_test.xlabel('Revenue')\n",
    "plot_test.ylabel('Cost')\n",
    "plot_test.show()"
   ]
  },
  {
   "cell_type": "markdown",
   "id": "d02a080f-e6a6-446a-a797-b670006b7f3d",
   "metadata": {},
   "source": [
    "### Our red line- prediction line shows how the Revenue increases when cost increases. But it still does not cover all points. However the line has a positive correlation"
   ]
  },
  {
   "cell_type": "code",
   "execution_count": 186,
   "id": "6746f571-f419-4cc8-93bd-a17eeca0d108",
   "metadata": {},
   "outputs": [],
   "source": [
    "# Create objects that contain the model summary statistics.\n",
    "\n",
    "rmse = mean_squared_error(y_test, y_predicted) # This is the mean squared error\n",
    "r2 = r2_score(y_test, y_predicted) # This is the R2 score. "
   ]
  },
  {
   "cell_type": "code",
   "execution_count": 188,
   "id": "627ddd92-e011-49c1-ab3b-c36d41c42fd5",
   "metadata": {},
   "outputs": [
    {
     "name": "stdout",
     "output_type": "stream",
     "text": [
      "Slope: [[0.66537671]]\n",
      "Mean squared error:  17762.386526305218\n",
      "R2 score:  0.9774426083106207\n"
     ]
    }
   ],
   "source": [
    "# Print the model summary statistics. This is where you evaluate the performance of the model.\n",
    "\n",
    "print('Slope:' ,regression.coef_)\n",
    "print('Mean squared error: ', rmse)\n",
    "print('R2 score: ', r2)"
   ]
  },
  {
   "cell_type": "markdown",
   "id": "9abc5761-f016-43ed-81d2-4a62d4cf8f7e",
   "metadata": {},
   "source": [
    "### Our slope is positive 0.66537671, which indicates a direct relationship between the independent and dependent variables. This means that as the independent variable increases, the dependent variable also increases."
   ]
  },
  {
   "cell_type": "markdown",
   "id": "d1f62a95-55c1-49d8-a60a-efbfa3307e3c",
   "metadata": {},
   "source": [
    "### The MSE is 17762. It means that the regression is not the best model to represent this data and can not accuraly predict the influence of the Cost to Revenue. To check if these values are big or small, we need to check the RANGE. "
   ]
  },
  {
   "cell_type": "code",
   "execution_count": 195,
   "id": "99f012e3-84e4-463e-a7e6-a2f0c6e5289a",
   "metadata": {},
   "outputs": [
    {
     "data": {
      "text/html": [
       "<div>\n",
       "<style scoped>\n",
       "    .dataframe tbody tr th:only-of-type {\n",
       "        vertical-align: middle;\n",
       "    }\n",
       "\n",
       "    .dataframe tbody tr th {\n",
       "        vertical-align: top;\n",
       "    }\n",
       "\n",
       "    .dataframe thead th {\n",
       "        text-align: right;\n",
       "    }\n",
       "</style>\n",
       "<table border=\"1\" class=\"dataframe\">\n",
       "  <thead>\n",
       "    <tr style=\"text-align: right;\">\n",
       "      <th></th>\n",
       "      <th>Actual</th>\n",
       "      <th>Predicted</th>\n",
       "    </tr>\n",
       "  </thead>\n",
       "  <tbody>\n",
       "    <tr>\n",
       "      <th>0</th>\n",
       "      <td>13</td>\n",
       "      <td>-9.782787</td>\n",
       "    </tr>\n",
       "    <tr>\n",
       "      <th>1</th>\n",
       "      <td>48</td>\n",
       "      <td>32.135946</td>\n",
       "    </tr>\n",
       "    <tr>\n",
       "      <th>2</th>\n",
       "      <td>1260</td>\n",
       "      <td>1302.340078</td>\n",
       "    </tr>\n",
       "    <tr>\n",
       "      <th>3</th>\n",
       "      <td>19</td>\n",
       "      <td>-13.109670</td>\n",
       "    </tr>\n",
       "    <tr>\n",
       "      <th>4</th>\n",
       "      <td>4342</td>\n",
       "      <td>4538.066999</td>\n",
       "    </tr>\n",
       "    <tr>\n",
       "      <th>5</th>\n",
       "      <td>12</td>\n",
       "      <td>-17.101931</td>\n",
       "    </tr>\n",
       "    <tr>\n",
       "      <th>6</th>\n",
       "      <td>344</td>\n",
       "      <td>311.594162</td>\n",
       "    </tr>\n",
       "    <tr>\n",
       "      <th>7</th>\n",
       "      <td>15</td>\n",
       "      <td>-7.121280</td>\n",
       "    </tr>\n",
       "    <tr>\n",
       "      <th>8</th>\n",
       "      <td>494</td>\n",
       "      <td>843.230150</td>\n",
       "    </tr>\n",
       "    <tr>\n",
       "      <th>9</th>\n",
       "      <td>2166</td>\n",
       "      <td>2140.049351</td>\n",
       "    </tr>\n",
       "    <tr>\n",
       "      <th>10</th>\n",
       "      <td>57</td>\n",
       "      <td>64.739404</td>\n",
       "    </tr>\n",
       "    <tr>\n",
       "      <th>11</th>\n",
       "      <td>6</td>\n",
       "      <td>-20.428814</td>\n",
       "    </tr>\n",
       "    <tr>\n",
       "      <th>12</th>\n",
       "      <td>1266</td>\n",
       "      <td>1294.355557</td>\n",
       "    </tr>\n",
       "    <tr>\n",
       "      <th>13</th>\n",
       "      <td>1252</td>\n",
       "      <td>1295.686311</td>\n",
       "    </tr>\n",
       "    <tr>\n",
       "      <th>14</th>\n",
       "      <td>390</td>\n",
       "      <td>637.628748</td>\n",
       "    </tr>\n",
       "    <tr>\n",
       "      <th>15</th>\n",
       "      <td>494</td>\n",
       "      <td>639.624878</td>\n",
       "    </tr>\n",
       "    <tr>\n",
       "      <th>16</th>\n",
       "      <td>4557</td>\n",
       "      <td>4648.519533</td>\n",
       "    </tr>\n",
       "    <tr>\n",
       "      <th>17</th>\n",
       "      <td>63</td>\n",
       "      <td>76.716185</td>\n",
       "    </tr>\n",
       "    <tr>\n",
       "      <th>18</th>\n",
       "      <td>15</td>\n",
       "      <td>-13.775047</td>\n",
       "    </tr>\n",
       "    <tr>\n",
       "      <th>19</th>\n",
       "      <td>14</td>\n",
       "      <td>-17.101931</td>\n",
       "    </tr>\n",
       "    <tr>\n",
       "      <th>20</th>\n",
       "      <td>119</td>\n",
       "      <td>64.739404</td>\n",
       "    </tr>\n",
       "    <tr>\n",
       "      <th>21</th>\n",
       "      <td>1266</td>\n",
       "      <td>1309.659221</td>\n",
       "    </tr>\n",
       "    <tr>\n",
       "      <th>22</th>\n",
       "      <td>3</td>\n",
       "      <td>-29.078711</td>\n",
       "    </tr>\n",
       "    <tr>\n",
       "      <th>23</th>\n",
       "      <td>2</td>\n",
       "      <td>-29.744088</td>\n",
       "    </tr>\n",
       "    <tr>\n",
       "      <th>24</th>\n",
       "      <td>192</td>\n",
       "      <td>314.921046</td>\n",
       "    </tr>\n",
       "    <tr>\n",
       "      <th>25</th>\n",
       "      <td>13</td>\n",
       "      <td>-19.763437</td>\n",
       "    </tr>\n",
       "    <tr>\n",
       "      <th>26</th>\n",
       "      <td>252</td>\n",
       "      <td>354.178271</td>\n",
       "    </tr>\n",
       "    <tr>\n",
       "      <th>27</th>\n",
       "      <td>2</td>\n",
       "      <td>-30.409465</td>\n",
       "    </tr>\n",
       "    <tr>\n",
       "      <th>28</th>\n",
       "      <td>295</td>\n",
       "      <td>318.913306</td>\n",
       "    </tr>\n",
       "    <tr>\n",
       "      <th>29</th>\n",
       "      <td>7</td>\n",
       "      <td>-25.751828</td>\n",
       "    </tr>\n",
       "  </tbody>\n",
       "</table>\n",
       "</div>"
      ],
      "text/plain": [
       "    Actual    Predicted\n",
       "0       13    -9.782787\n",
       "1       48    32.135946\n",
       "2     1260  1302.340078\n",
       "3       19   -13.109670\n",
       "4     4342  4538.066999\n",
       "5       12   -17.101931\n",
       "6      344   311.594162\n",
       "7       15    -7.121280\n",
       "8      494   843.230150\n",
       "9     2166  2140.049351\n",
       "10      57    64.739404\n",
       "11       6   -20.428814\n",
       "12    1266  1294.355557\n",
       "13    1252  1295.686311\n",
       "14     390   637.628748\n",
       "15     494   639.624878\n",
       "16    4557  4648.519533\n",
       "17      63    76.716185\n",
       "18      15   -13.775047\n",
       "19      14   -17.101931\n",
       "20     119    64.739404\n",
       "21    1266  1309.659221\n",
       "22       3   -29.078711\n",
       "23       2   -29.744088\n",
       "24     192   314.921046\n",
       "25      13   -19.763437\n",
       "26     252   354.178271\n",
       "27       2   -30.409465\n",
       "28     295   318.913306\n",
       "29       7   -25.751828"
      ]
     },
     "execution_count": 195,
     "metadata": {},
     "output_type": "execute_result"
    }
   ],
   "source": [
    "# Create a dataframe comparing the actual and predicted values of y.\n",
    "\n",
    "data = pd.DataFrame({'Actual': y_test.flatten(), 'Predicted': y_predicted.flatten()})\n",
    "data.head(30)"
   ]
  },
  {
   "cell_type": "markdown",
   "id": "d32bcf06-0b38-4cfa-af6d-012244ef79ea",
   "metadata": {},
   "source": [
    "### As we can see some actual and predicted data are very absurd. I can not interpret them. Some data shows small, middle and hight differences..."
   ]
  },
  {
   "cell_type": "markdown",
   "id": "aebdf700-11e8-4749-8740-8f90eee1bc7c",
   "metadata": {},
   "source": [
    "### Let's see our range. "
   ]
  },
  {
   "cell_type": "code",
   "execution_count": 207,
   "id": "acd90c40-979a-40d6-9fbf-ed040560d96e",
   "metadata": {},
   "outputs": [
    {
     "data": {
      "text/plain": [
       "58072"
      ]
     },
     "execution_count": 207,
     "metadata": {},
     "output_type": "execute_result"
    }
   ],
   "source": [
    "# Get range of a column\n",
    "column_range = df['Revenue'].max() - df['Revenue'].min()\n",
    "column_range"
   ]
  },
  {
   "cell_type": "markdown",
   "id": "d2eda122-b3b2-42a7-ad19-7808c7a685d7",
   "metadata": {},
   "source": [
    "### The relation between MSE (17762) and Range (58072) is not very big."
   ]
  },
  {
   "cell_type": "markdown",
   "id": "048ce874-c086-40c8-a706-d69815a621e2",
   "metadata": {},
   "source": [
    "### R² score of 0.9774426083106207: Indicates that the model explains approximately 97.74% of the variance in the dependent variable, which signifies an excellent fit."
   ]
  },
  {
   "cell_type": "markdown",
   "id": "39b0b475-32b1-4f59-b0d4-79a4568842a6",
   "metadata": {},
   "source": [
    "### In summary, based on the provided metrics, the prediction model demonstrates strong predictive power with a high R² score and a positive slope indicating a direct relationship. The relatively high MSE suggests room for improvement in reducing prediction errors, but overall, the model is effective in explaining and predicting the dependent variable (Revenue) based on the independent variable (Cost)."
   ]
  },
  {
   "cell_type": "markdown",
   "id": "1e34cf58-2e23-4f6c-8e69-b71e29f25782",
   "metadata": {},
   "source": [
    "## Let's check how the model fit to training set"
   ]
  },
  {
   "cell_type": "code",
   "execution_count": 215,
   "id": "7772ba5a-997d-48b9-ab7e-3bb0f5dc571a",
   "metadata": {},
   "outputs": [],
   "source": [
    "# Predict.\n",
    "\n",
    "y_predicted_train = regression.predict(X_train) # This is predicting X_train!"
   ]
  },
  {
   "cell_type": "code",
   "execution_count": 218,
   "id": "985bc214-da19-4385-b011-d2280258d799",
   "metadata": {},
   "outputs": [],
   "source": [
    "rmse = mean_squared_error(y_train, y_predicted_train)\n",
    "r2 = r2_score(y_train, y_predicted_train)"
   ]
  },
  {
   "cell_type": "code",
   "execution_count": 220,
   "id": "a514264b-c730-49fc-a958-f864580cf67c",
   "metadata": {},
   "outputs": [
    {
     "name": "stdout",
     "output_type": "stream",
     "text": [
      "Slope: [[0.66537671]]\n",
      "Mean squared error:  17105.473117479214\n",
      "R2 score:  0.9769902606957533\n"
     ]
    }
   ],
   "source": [
    "print('Slope:' ,regression.coef_)\n",
    "print('Mean squared error: ', rmse)\n",
    "print('R2 score: ', r2)"
   ]
  },
  {
   "cell_type": "code",
   "execution_count": 228,
   "id": "69502e8d-6c4e-4f3c-820d-206016e902ba",
   "metadata": {},
   "outputs": [
    {
     "data": {
      "image/png": "[encoded data removed]",
      "text/plain": [
       "<Figure size 640x480 with 1 Axes>"
      ]
     },
     "metadata": {},
     "output_type": "display_data"
    }
   ],
   "source": [
    "# Create a plot that shows the regression line from the model on the Training set.\n",
    "\n",
    "plot_test = plt\n",
    "plot_test.scatter(X_test, y_test, color='green', s = 15)\n",
    "plot_test.plot(X_test, y_predicted, color='red', linewidth =3)\n",
    "plot_test.title('Revenue vs Cost (Training set)')\n",
    "plot_test.xlabel('Revenue')\n",
    "plot_test.ylabel('Cost')\n",
    "plot_test.show()"
   ]
  },
  {
   "cell_type": "code",
   "execution_count": null,
   "id": "cccb68e3-05eb-40a9-8a42-0a3f9e8a2fbe",
   "metadata": {},
   "outputs": [],
   "source": []
  }
 ],
 "metadata": {
  "kernelspec": {
   "display_name": "Python 3 (ipykernel)",
   "language": "python",
   "name": "python3"
  },
  "language_info": {
   "codemirror_mode": {
    "name": "ipython",
    "version": 3
   },
   "file_extension": ".py",
   "mimetype": "text/x-python",
   "name": "python",
   "nbconvert_exporter": "python",
   "pygments_lexer": "ipython3",
   "version": "3.11.7"
  }
 },
 "nbformat": 4,
 "nbformat_minor": 5
}
